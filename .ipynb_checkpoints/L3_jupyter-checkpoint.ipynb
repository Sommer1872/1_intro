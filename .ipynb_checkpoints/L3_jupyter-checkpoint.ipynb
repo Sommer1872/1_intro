{
 "cells": [
  {
   "cell_type": "markdown",
   "metadata": {},
   "source": [
    "# L3_Jupyter"
   ]
  },
  {
   "cell_type": "code",
   "execution_count": null,
   "metadata": {
    "collapsed": true
   },
   "outputs": [],
   "source": [
    "jupyter notebook\t#To start a notebook server, enter this in your terminal or console"
   ]
  },
  {
   "cell_type": "markdown",
   "metadata": {},
   "source": [
    "You can shutdown the entire server by pressing control + C twice in the terminal.\n",
    "Again, this will immediately shutdown all the running notebooks, so make sure your work is saved!"
   ]
  },
  {
   "cell_type": "markdown",
   "metadata": {},
   "source": [
    "### next few lines are to demonstrate the semantics markdown cells"
   ]
  },
  {
   "cell_type": "markdown",
   "metadata": {
    "collapsed": true,
    "deletable": true,
    "editable": true
   },
   "source": [
    "[link to udacity home page](https://www.udacity.com)"
   ]
  },
  {
   "cell_type": "markdown",
   "metadata": {},
   "source": [
    "**bold**, __bold__, \n",
    "*italics*, _italics_"
   ]
  },
  {
   "cell_type": "markdown",
   "metadata": {},
   "source": [
    "try to `enclose inline code cells with two baackticks`, see how it looks different? "
   ]
  },
  {
   "cell_type": "markdown",
   "metadata": {},
   "source": [
    "for whole blocks of code:\n",
    "```\n",
    "use three backticks\n",
    "```\n",
    "and then write as normal"
   ]
  },
  {
   "cell_type": "markdown",
   "metadata": {},
   "source": [
    "## Math expressions"
   ]
  },
  {
   "cell_type": "markdown",
   "metadata": {},
   "source": [
    "You can create math expressions in Markdown cells using LaTeX symbols. Notebooks use MathJax to render the LaTeX symbols as math symbols. To start math mode, wrap the LaTeX in dollar signs $y = mx + b$ for inline math. For a math block, use double dollar signs:\n",
    "$$\n",
    "y = \\frac{a}{b+c}\n",
    "$$"
   ]
  },
  {
   "cell_type": "markdown",
   "metadata": {},
   "source": [
    "This is a really useful feature, so if you don't have experience with LaTeX please read this [primer](http://data-blog.udacity.com/posts/2016/10/latex-primer/) on using it to create math expressions."
   ]
  },
  {
   "cell_type": "markdown",
   "metadata": {},
   "source": [
    "$$P(A\\mid B) = \\frac{P(B\\mid A)P(A)}{P(B)}$$"
   ]
  },
  {
   "cell_type": "markdown",
   "metadata": {},
   "source": [
    "Displaying the fraction above is done with the \\frac command. It takes two inputs, one for the numerator and one for the denominator each enclosed in braces."
   ]
  },
  {
   "cell_type": "markdown",
   "metadata": {},
   "source": [
    "$y=mx+b$"
   ]
  },
  {
   "cell_type": "markdown",
   "metadata": {},
   "source": [
    "`$x^2$` gives $x^2$"
   ]
  },
  {
   "cell_type": "markdown",
   "metadata": {},
   "source": [
    "`$e^{2x}$` renders as $e^{2x}$"
   ]
  },
  {
   "cell_type": "markdown",
   "metadata": {},
   "source": [
    "`$x_i$` is $x_i$"
   ]
  },
  {
   "cell_type": "markdown",
   "metadata": {},
   "source": [
    "`$_{10}C_5$` is $_{10}C_5$"
   ]
  },
  {
   "cell_type": "markdown",
   "metadata": {},
   "source": [
    "`$\\sqrt{2\\pi}$` gives $\\sqrt{2\\pi}$"
   ]
  },
  {
   "cell_type": "markdown",
   "metadata": {},
   "source": [
    "For Greek letters use \\alpha, \\beta, \\gamma: α,β, γ. \n",
    "You can do uppercase too: \\Phi, \\Lambda, \\Gamma: Φ, Λ, Γ.\n",
    "Note that uppercase beta is just B, so there is no \\Beta.\n",
    "\n",
    "Operators like multiplication and convolution, \\times,\\pm, \\cup, \\oplus: ×, ±, ∪, ⊕\n",
    "\n",
    "Trigonometry functions like \\sin, \\cosh, \\arctan: sin, cosh, arctan\n",
    ". You want to use these commands instead of just writing sin, otherwise you get sin(kx−ωt) instead of $\\sin(kx−ωt)$\n",
    "\n",
    "Relations such as \\leq, \\geq, \\approx, \\neq: ≤, ≥, ≈, ≠\n",
    "\n",
    "Triple dots like \\cdots, \\ldots, \\ddots: ⋯, …\n",
    ", ⋱\n",
    "Other various symbols like: \\infty, \\nabla, \\partial: ∞, ∇, ∂\n"
   ]
  },
  {
   "cell_type": "markdown",
   "metadata": {},
   "source": [
    "## Magic keywords"
   ]
  },
  {
   "cell_type": "markdown",
   "metadata": {},
   "source": [
    "For example, you can set up matplotlib to work interactively in the notebook with `%matplotlib`\n",
    "\n",
    "Magic commands are preceded with one or two percent signs (% or %%) for line magics and cell magics, respectively."
   ]
  },
  {
   "cell_type": "markdown",
   "metadata": {},
   "source": [
    "### Timing code"
   ]
  },
  {
   "cell_type": "markdown",
   "metadata": {},
   "source": [
    "You can use the timeit magic command to time how long it takes for a function to run, like so:"
   ]
  },
  {
   "cell_type": "markdown",
   "metadata": {},
   "source": [
    "`%timeit function(...)`"
   ]
  },
  {
   "cell_type": "markdown",
   "metadata": {},
   "source": [
    "If you want to time how long it takes for a whole cell to run, you’d use `%%timeit`"
   ]
  },
  {
   "cell_type": "markdown",
   "metadata": {},
   "source": [
    "### Embedding visualizations in notebooks"
   ]
  },
  {
   "cell_type": "markdown",
   "metadata": {},
   "source": [
    "You can use `%matplotlib` to set up matplotlib for interactive use in the notebook"
   ]
  },
  {
   "cell_type": "markdown",
   "metadata": {},
   "source": [
    "By default figures will render in their own window. However, you can pass arguments to the command to select a specific \"backend\", the software that renders the image. To render figures directly in the notebook, you should use the inline backend with the command `%matplotlib inline`"
   ]
  },
  {
   "cell_type": "markdown",
   "metadata": {},
   "source": [
    "(Tip: On higher resolution screens such as Retina displays, the default images in notebooks can look blurry. Use `%config InlineBackend.figure_format = 'retina'` after `%matplotlib inline`\n",
    " to render higher resolution images.)"
   ]
  },
  {
   "cell_type": "markdown",
   "metadata": {},
   "source": [
    "## Debugging in the notebook"
   ]
  },
  {
   "cell_type": "markdown",
   "metadata": {},
   "source": [
    "With the Python kernel, you can turn on the interactive debugger \n",
    "using the magic command `%pdb`\n",
    "\n",
    "Read more about pdb in the [documentation](https://docs.python.org/3/library/pdb.html). To quit the debugger, simply enter `q` in the prompt.\n",
    "\n",
    "There are a whole bunch of other magic commands, I just touched on a few of the ones you'll use the most often. To learn more about them, here's the [list](http://ipython.readthedocs.io/en/stable/interactive/magics.html) of all available magic commands."
   ]
  },
  {
   "cell_type": "markdown",
   "metadata": {},
   "source": [
    "## Convert notebooks"
   ]
  },
  {
   "cell_type": "markdown",
   "metadata": {},
   "source": [
    "in terminal: `jupyter nbconvert --to html notebook.ipynb`"
   ]
  }
 ],
 "metadata": {
  "kernelspec": {
   "display_name": "Python [conda root]",
   "language": "python",
   "name": "conda-root-py"
  },
  "language_info": {
   "codemirror_mode": {
    "name": "ipython",
    "version": 3
   },
   "file_extension": ".py",
   "mimetype": "text/x-python",
   "name": "python",
   "nbconvert_exporter": "python",
   "pygments_lexer": "ipython3",
   "version": "3.5.3"
  }
 },
 "nbformat": 4,
 "nbformat_minor": 2
}
