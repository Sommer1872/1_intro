{
 "cells": [
  {
   "cell_type": "markdown",
   "metadata": {},
   "source": [
    "# L2 Anaconda"
   ]
  },
  {
   "cell_type": "code",
   "execution_count": null,
   "metadata": {
    "collapsed": true,
    "deletable": true,
    "editable": true
   },
   "outputs": [],
   "source": [
    "conda list\t#show installed packages\n",
    "\n",
    "#create new environment\n",
    "conda create -n env_name list_of_packages\t\t#gerneral command to create an environment\n",
    "conda create -n py3 python=3 \t\t\t\t\t# to create an environment with a specific python version\n",
    "\n",
    "source activate env_name\t#Once you have an environment created, use this to enter it\n",
    "\n",
    "#Installing packages in the environment is the same as before:\n",
    "conda install package_name.\n",
    "#Only this time, the specific packages you install will only be available when you're in the environment. \n",
    "\n",
    "conda env export > environment.yaml\t\t#save the packages to a YAML file, to share it with others\n",
    "conda env create -f environment.YAML \t#to create an environment from an environment file\n",
    "\n",
    "source deactivate\t\t\t#to leave the environment\n",
    "\n",
    "\n",
    "\n",
    "conda env list \t\t#list out all environments you've created (default is named \"root\")\n",
    "\n",
    "conda env remove -n env_name\t\t#to remove the environment named \"env_name\""
   ]
  }
 ],
 "metadata": {
  "kernelspec": {
   "display_name": "Python [conda root]",
   "language": "python",
   "name": "conda-root-py"
  },
  "language_info": {
   "codemirror_mode": {
    "name": "ipython",
    "version": 3
   },
   "file_extension": ".py",
   "mimetype": "text/x-python",
   "name": "python",
   "nbconvert_exporter": "python",
   "pygments_lexer": "ipython3",
   "version": "3.5.3"
  }
 },
 "nbformat": 4,
 "nbformat_minor": 2
}
